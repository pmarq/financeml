{
 "cells": [
  {
   "cell_type": "code",
   "execution_count": 2,
   "metadata": {},
   "outputs": [],
   "source": [
    "import pandas as pd\n",
    "import seaborn as sns\n",
    "import matplotlib.pyplot as plt\n",
    "pd.options.display.float_format = '{:.2f}'.format"
   ]
  },
  {
   "cell_type": "code",
   "execution_count": 3,
   "metadata": {},
   "outputs": [],
   "source": [
    "df_dre_tri = pd.read_csv(r\"C:\\Users\\usuario\\Desktop\\Programacao\\financeml\\src\\data\\dados_tratados\\dre_tri.csv\")"
   ]
  },
  {
   "cell_type": "code",
   "execution_count": 4,
   "metadata": {},
   "outputs": [],
   "source": [
    "df_dra_tri = pd.read_csv(r\"C:\\Users\\usuario\\Desktop\\Programacao\\financeml\\src\\data\\dados_tratados\\dra_tri.csv\")"
   ]
  },
  {
   "cell_type": "code",
   "execution_count": 5,
   "metadata": {},
   "outputs": [
    {
     "data": {
      "text/plain": [
       "<bound method DataFrame.info of        Unnamed: 0            CNPJ_CIA                             DENOM_CIA  \\\n",
       "0              60  00.001.180/0001-26  CENTRAIS ELET BRAS S.A. - ELETROBRAS   \n",
       "1              61  00.001.180/0001-26  CENTRAIS ELET BRAS S.A. - ELETROBRAS   \n",
       "2              62  00.001.180/0001-26  CENTRAIS ELET BRAS S.A. - ELETROBRAS   \n",
       "3              63  00.001.180/0001-26  CENTRAIS ELET BRAS S.A. - ELETROBRAS   \n",
       "4              64  00.001.180/0001-26  CENTRAIS ELET BRAS S.A. - ELETROBRAS   \n",
       "...           ...                 ...                                   ...   \n",
       "18419       19672  97.837.181/0001-47                          DURATEX S.A.   \n",
       "18420       19673  97.837.181/0001-47                          DURATEX S.A.   \n",
       "18421       19674  97.837.181/0001-47                          DURATEX S.A.   \n",
       "18422       19675  97.837.181/0001-47                          DURATEX S.A.   \n",
       "18423       19676  97.837.181/0001-47                          DURATEX S.A.   \n",
       "\n",
       "       CD_CVM                                  GRUPO_DFP DT_FIM_EXERC  \\\n",
       "0        2437  DF Individual - Demonstração do Resultado   2014-03-31   \n",
       "1        2437  DF Individual - Demonstração do Resultado   2014-06-30   \n",
       "2        2437  DF Individual - Demonstração do Resultado   2014-09-30   \n",
       "3        2437  DF Individual - Demonstração do Resultado   2015-03-31   \n",
       "4        2437  DF Individual - Demonstração do Resultado   2015-06-30   \n",
       "...       ...                                        ...          ...   \n",
       "18419   21091  DF Individual - Demonstração do Resultado   2015-06-30   \n",
       "18420   21091  DF Individual - Demonstração do Resultado   2015-09-30   \n",
       "18421   21091  DF Individual - Demonstração do Resultado   2016-03-31   \n",
       "18422   21091  DF Individual - Demonstração do Resultado   2016-06-30   \n",
       "18423   21091  DF Individual - Demonstração do Resultado   2016-09-30   \n",
       "\n",
       "       Corrente  Custo dos Bens e/ou Serviços Vendidos  Despesas Financeiras  \\\n",
       "0     -41937.00                              -27198.00            -506268.00   \n",
       "1      41937.00                             -155592.00           -1412804.00   \n",
       "2          0.00                            -3048196.00           -1441332.00   \n",
       "3          0.00                             -693124.00            -644404.00   \n",
       "4     -84307.00                            -2096638.00           -9523312.00   \n",
       "...         ...                                    ...                   ...   \n",
       "18419      0.00                            -1990642.00            -212038.00   \n",
       "18420      0.00                            -2718385.00            -335064.00   \n",
       "18421  -2181.00                             -643380.00             -73832.00   \n",
       "18422 -59005.00                            -1936462.00            -226024.00   \n",
       "18423 -33029.00                            -2557979.00            -306198.00   \n",
       "\n",
       "       Despesas Gerais e Administrativas  ...  Resultado Bruto  \\\n",
       "0                            -1580488.00  ...        710363.00   \n",
       "1                            -5492590.00  ...       2215433.00   \n",
       "2                            -6405363.00  ...       -116328.00   \n",
       "3                             -886395.00  ...        110457.00   \n",
       "4                            -3956953.00  ...        336505.00   \n",
       "...                                  ...  ...              ...   \n",
       "18419                          -98038.00  ...        605340.00   \n",
       "18420                         -135513.00  ...        857072.00   \n",
       "18421                          -34302.00  ...        111422.00   \n",
       "18422                          -92242.00  ...        421868.00   \n",
       "18423                         -121776.00  ...        619689.00   \n",
       "\n",
       "       Resultado Financeiro  Resultado Líquido das Operações Continuadas  \\\n",
       "0                 372987.00                                    985903.00   \n",
       "1                1295191.00                                    776655.00   \n",
       "2                2255191.00                                  -4595661.00   \n",
       "3                1242593.00                                   1255247.00   \n",
       "4                2114309.00                                  -1460973.00   \n",
       "...                     ...                                          ...   \n",
       "18419            -157125.00                                    140429.00   \n",
       "18420            -187653.00                                    159853.00   \n",
       "18421             -55973.00                                    -31122.00   \n",
       "18422            -175063.00                                    -31356.00   \n",
       "18423            -222466.00                                     28247.00   \n",
       "\n",
       "       Resultado Líquido de Operações Descontinuadas  \\\n",
       "0                                               0.00   \n",
       "1                                               0.00   \n",
       "2                                               0.00   \n",
       "3                                               0.00   \n",
       "4                                               0.00   \n",
       "...                                              ...   \n",
       "18419                                           0.00   \n",
       "18420                                           0.00   \n",
       "18421                                           0.00   \n",
       "18422                                           0.00   \n",
       "18423                                           0.00   \n",
       "\n",
       "       Resultado de Equivalência Patrimonial  Margem Bruta  \\\n",
       "0                                 1524978.00          0.96   \n",
       "1                                 2716684.00          0.93   \n",
       "2                                 -329161.00         -0.04   \n",
       "3                                  971927.00          0.14   \n",
       "4                                  277431.00          0.14   \n",
       "...                                      ...           ...   \n",
       "18419                              119176.00          0.23   \n",
       "18420                              141426.00          0.24   \n",
       "18421                               31842.00          0.15   \n",
       "18422                              114904.00          0.18   \n",
       "18423                              173411.00          0.20   \n",
       "\n",
       "       Margem Operacional  Margem Líquida  Cobertura de Juros  \\\n",
       "0                    0.89            1.34               -2.03   \n",
       "1                   -0.24            0.33               -0.52   \n",
       "2                   -2.34           -1.57                3.19   \n",
       "3                    0.24            1.56               -2.23   \n",
       "4                   -1.37           -0.60                0.13   \n",
       "...                   ...             ...                 ...   \n",
       "18419                0.10            0.05               -0.43   \n",
       "18420                0.09            0.04               -0.39   \n",
       "18421               -0.01           -0.04                0.85   \n",
       "18422                0.03           -0.01                0.46   \n",
       "18423                0.06            0.01                0.13   \n",
       "\n",
       "       Turnover de Ativos  \n",
       "0                  -17.59  \n",
       "1                   56.54  \n",
       "2                     inf  \n",
       "3                     inf  \n",
       "4                  -28.86  \n",
       "...                   ...  \n",
       "18419                 inf  \n",
       "18420                 inf  \n",
       "18421             -346.08  \n",
       "18422              -39.97  \n",
       "18423              -96.21  \n",
       "\n",
       "[18424 rows x 31 columns]>"
      ]
     },
     "execution_count": 5,
     "metadata": {},
     "output_type": "execute_result"
    }
   ],
   "source": [
    "df_dre_tri.info"
   ]
  },
  {
   "cell_type": "code",
   "execution_count": 6,
   "metadata": {},
   "outputs": [
    {
     "data": {
      "text/plain": [
       "<bound method DataFrame.info of        Unnamed: 0            CNPJ_CIA        DENOM_CIA  CD_CVM  \\\n",
       "0               0  00.000.000/0001-91  BCO BRASIL S.A.    1023   \n",
       "1               1  00.000.000/0001-91  BCO BRASIL S.A.    1023   \n",
       "2               2  00.000.000/0001-91  BCO BRASIL S.A.    1023   \n",
       "3               3  00.000.000/0001-91  BCO BRASIL S.A.    1023   \n",
       "4               4  00.000.000/0001-91  BCO BRASIL S.A.    1023   \n",
       "...           ...                 ...              ...     ...   \n",
       "19459       19654  97.837.181/0001-47     DURATEX S.A.   21091   \n",
       "19460       19655  97.837.181/0001-47     DURATEX S.A.   21091   \n",
       "19461       19656  97.837.181/0001-47     DURATEX S.A.   21091   \n",
       "19462       19657  97.837.181/0001-47     DURATEX S.A.   21091   \n",
       "19463       19658  97.837.181/0001-47     DURATEX S.A.   21091   \n",
       "\n",
       "                                               GRUPO_DFP DT_FIM_EXERC  \\\n",
       "0      DF Individual - Demonstração de Resultado Abra...   2014-03-31   \n",
       "1      DF Individual - Demonstração de Resultado Abra...   2014-06-30   \n",
       "2      DF Individual - Demonstração de Resultado Abra...   2014-09-30   \n",
       "3      DF Individual - Demonstração de Resultado Abra...   2015-03-31   \n",
       "4      DF Individual - Demonstração de Resultado Abra...   2015-06-30   \n",
       "...                                                  ...          ...   \n",
       "19459  DF Individual - Demonstração de Resultado Abra...   2015-06-30   \n",
       "19460  DF Individual - Demonstração de Resultado Abra...   2015-09-30   \n",
       "19461  DF Individual - Demonstração de Resultado Abra...   2016-03-31   \n",
       "19462  DF Individual - Demonstração de Resultado Abra...   2016-06-30   \n",
       "19463  DF Individual - Demonstração de Resultado Abra...   2016-09-30   \n",
       "\n",
       "       Lucro Líquido do Período  Outros Resultados Abrangentes  \\\n",
       "0                    2774858.00                       44332.00   \n",
       "1                    8355522.00                    -7114610.00   \n",
       "2                   11050824.00                    -4089093.00   \n",
       "3                    5675916.00                     -577012.00   \n",
       "4                   11537006.00                    -5361372.00   \n",
       "...                         ...                            ...   \n",
       "19459                 140429.00                       42770.00   \n",
       "19460                 159853.00                      105139.00   \n",
       "19461                 -31122.00                      -14534.00   \n",
       "19462                 -31356.00                      -82572.00   \n",
       "19463                  28247.00                      -29519.00   \n",
       "\n",
       "       Resultado Abrangente do Período  Relação Lucro/Resultado Abrangente  \\\n",
       "0                           2819190.00                                0.98   \n",
       "1                           1240912.00                                6.73   \n",
       "2                           6961731.00                                1.59   \n",
       "3                           5098904.00                                1.11   \n",
       "4                           6175634.00                                1.87   \n",
       "...                                ...                                 ...   \n",
       "19459                        183199.00                                0.77   \n",
       "19460                        264992.00                                0.60   \n",
       "19461                        -45656.00                                0.68   \n",
       "19462                       -113928.00                                0.28   \n",
       "19463                         -1272.00                              -22.21   \n",
       "\n",
       "       Variação Anual do Lucro Líquido  Variação Anual do Resultado Abrangente  \n",
       "0                                  NaN                                     NaN  \n",
       "1                                 2.01                                   -0.56  \n",
       "2                                 0.32                                    4.61  \n",
       "3                                -0.49                                   -0.27  \n",
       "4                                 1.03                                    0.21  \n",
       "...                                ...                                     ...  \n",
       "19459                             1.09                                    0.82  \n",
       "19460                             0.14                                    0.45  \n",
       "19461                            -1.19                                   -1.17  \n",
       "19462                             0.01                                    1.50  \n",
       "19463                            -1.90                                   -0.99  \n",
       "\n",
       "[19464 rows x 12 columns]>"
      ]
     },
     "execution_count": 6,
     "metadata": {},
     "output_type": "execute_result"
    }
   ],
   "source": [
    "df_dra_tri.info"
   ]
  },
  {
   "cell_type": "code",
   "execution_count": 7,
   "metadata": {},
   "outputs": [],
   "source": [
    "# Filtrar as empresas no dra que estão presentes no dre\n",
    "empresas_comuns = df_dre_tri['CNPJ_CIA'].unique()\n",
    "df_dra_filtrado = df_dra_tri[df_dra_tri['CNPJ_CIA'].isin(empresas_comuns)]\n",
    "\n",
    "# Atualizar o dataframe original\n",
    "df_dra_tri = df_dra_filtrado\n"
   ]
  },
  {
   "cell_type": "code",
   "execution_count": 8,
   "metadata": {},
   "outputs": [
    {
     "data": {
      "text/plain": [
       "<bound method DataFrame.info of        Unnamed: 0            CNPJ_CIA                             DENOM_CIA  \\\n",
       "41             60  00.001.180/0001-26  CENTRAIS ELET BRAS S.A. - ELETROBRAS   \n",
       "42             61  00.001.180/0001-26  CENTRAIS ELET BRAS S.A. - ELETROBRAS   \n",
       "43             62  00.001.180/0001-26  CENTRAIS ELET BRAS S.A. - ELETROBRAS   \n",
       "44             63  00.001.180/0001-26  CENTRAIS ELET BRAS S.A. - ELETROBRAS   \n",
       "45             64  00.001.180/0001-26  CENTRAIS ELET BRAS S.A. - ELETROBRAS   \n",
       "...           ...                 ...                                   ...   \n",
       "19459       19654  97.837.181/0001-47                          DURATEX S.A.   \n",
       "19460       19655  97.837.181/0001-47                          DURATEX S.A.   \n",
       "19461       19656  97.837.181/0001-47                          DURATEX S.A.   \n",
       "19462       19657  97.837.181/0001-47                          DURATEX S.A.   \n",
       "19463       19658  97.837.181/0001-47                          DURATEX S.A.   \n",
       "\n",
       "       CD_CVM                                          GRUPO_DFP DT_FIM_EXERC  \\\n",
       "41       2437  DF Individual - Demonstração de Resultado Abra...   2014-03-31   \n",
       "42       2437  DF Individual - Demonstração de Resultado Abra...   2014-06-30   \n",
       "43       2437  DF Individual - Demonstração de Resultado Abra...   2014-09-30   \n",
       "44       2437  DF Individual - Demonstração de Resultado Abra...   2015-03-31   \n",
       "45       2437  DF Individual - Demonstração de Resultado Abra...   2015-06-30   \n",
       "...       ...                                                ...          ...   \n",
       "19459   21091  DF Individual - Demonstração de Resultado Abra...   2015-06-30   \n",
       "19460   21091  DF Individual - Demonstração de Resultado Abra...   2015-09-30   \n",
       "19461   21091  DF Individual - Demonstração de Resultado Abra...   2016-03-31   \n",
       "19462   21091  DF Individual - Demonstração de Resultado Abra...   2016-06-30   \n",
       "19463   21091  DF Individual - Demonstração de Resultado Abra...   2016-09-30   \n",
       "\n",
       "       Lucro Líquido do Período  Outros Resultados Abrangentes  \\\n",
       "41                    985903.00                      -52801.00   \n",
       "42                    776655.00                      -21341.00   \n",
       "43                  -4595661.00                      146253.00   \n",
       "44                   1255247.00                       33516.00   \n",
       "45                  -1460973.00                      -33468.00   \n",
       "...                         ...                            ...   \n",
       "19459                 140429.00                       42770.00   \n",
       "19460                 159853.00                      105139.00   \n",
       "19461                 -31122.00                      -14534.00   \n",
       "19462                 -31356.00                      -82572.00   \n",
       "19463                  28247.00                      -29519.00   \n",
       "\n",
       "       Resultado Abrangente do Período  Relação Lucro/Resultado Abrangente  \\\n",
       "41                           933102.00                                1.06   \n",
       "42                           755314.00                                1.03   \n",
       "43                         -4449408.00                                1.03   \n",
       "44                          1288763.00                                0.97   \n",
       "45                         -1494441.00                                0.98   \n",
       "...                                ...                                 ...   \n",
       "19459                        183199.00                                0.77   \n",
       "19460                        264992.00                                0.60   \n",
       "19461                        -45656.00                                0.68   \n",
       "19462                       -113928.00                                0.28   \n",
       "19463                         -1272.00                              -22.21   \n",
       "\n",
       "       Variação Anual do Lucro Líquido  Variação Anual do Resultado Abrangente  \n",
       "41                                1.67                                    1.44  \n",
       "42                               -0.21                                   -0.19  \n",
       "43                               -6.92                                   -6.89  \n",
       "44                               -1.27                                   -1.29  \n",
       "45                               -2.16                                   -2.16  \n",
       "...                                ...                                     ...  \n",
       "19459                             1.09                                    0.82  \n",
       "19460                             0.14                                    0.45  \n",
       "19461                            -1.19                                   -1.17  \n",
       "19462                             0.01                                    1.50  \n",
       "19463                            -1.90                                   -0.99  \n",
       "\n",
       "[18499 rows x 12 columns]>"
      ]
     },
     "execution_count": 8,
     "metadata": {},
     "output_type": "execute_result"
    }
   ],
   "source": [
    "df_dra_tri.info"
   ]
  },
  {
   "cell_type": "code",
   "execution_count": 9,
   "metadata": {},
   "outputs": [
    {
     "data": {
      "text/plain": [
       "Index(['Unnamed: 0', 'CNPJ_CIA', 'DENOM_CIA', 'CD_CVM', 'GRUPO_DFP',\n",
       "       'DT_FIM_EXERC', 'Lucro Líquido do Período',\n",
       "       'Outros Resultados Abrangentes', 'Resultado Abrangente do Período',\n",
       "       'Relação Lucro/Resultado Abrangente', 'Variação Anual do Lucro Líquido',\n",
       "       'Variação Anual do Resultado Abrangente'],\n",
       "      dtype='object')"
      ]
     },
     "execution_count": 9,
     "metadata": {},
     "output_type": "execute_result"
    }
   ],
   "source": [
    "df_dra_tri.columns"
   ]
  },
  {
   "cell_type": "code",
   "execution_count": 10,
   "metadata": {},
   "outputs": [
    {
     "data": {
      "text/plain": [
       "Index(['Unnamed: 0', 'CNPJ_CIA', 'DENOM_CIA', 'CD_CVM', 'GRUPO_DFP',\n",
       "       'DT_FIM_EXERC', 'Corrente', 'Custo dos Bens e/ou Serviços Vendidos',\n",
       "       'Despesas Financeiras', 'Despesas Gerais e Administrativas',\n",
       "       'Despesas/Receitas Operacionais', 'Diferido',\n",
       "       'Imposto de Renda e Contribuição Social sobre o Lucro',\n",
       "       'Lucro/Prejuízo Líquido das Operações Descontinuadas',\n",
       "       'Lucro/Prejuízo do Período', 'Outras Despesas Operacionais',\n",
       "       'Perdas pela Não Recuperabilidade de Ativos',\n",
       "       'Receita de Venda de Bens e/ou Serviços', 'Receitas Financeiras',\n",
       "       'Resultado Antes do Resultado Financeiro e dos Tributos',\n",
       "       'Resultado Antes dos Tributos sobre o Lucro', 'Resultado Bruto',\n",
       "       'Resultado Financeiro', 'Resultado Líquido das Operações Continuadas',\n",
       "       'Resultado Líquido de Operações Descontinuadas',\n",
       "       'Resultado de Equivalência Patrimonial', 'Margem Bruta',\n",
       "       'Margem Operacional', 'Margem Líquida', 'Cobertura de Juros',\n",
       "       'Turnover de Ativos'],\n",
       "      dtype='object')"
      ]
     },
     "execution_count": 10,
     "metadata": {},
     "output_type": "execute_result"
    }
   ],
   "source": [
    "df_dre_tri.columns"
   ]
  },
  {
   "cell_type": "code",
   "execution_count": 13,
   "metadata": {},
   "outputs": [
    {
     "data": {
      "text/plain": [
       "array(['2014-03-31', '2014-06-30', '2014-09-30', '2015-03-31',\n",
       "       '2015-06-30', '2015-09-30', '2016-03-31', '2016-06-30',\n",
       "       '2016-09-30', '2017-03-31', '2017-06-30', '2017-09-30',\n",
       "       '2018-03-31', '2018-06-30', '2018-09-30', '2019-03-31',\n",
       "       '2019-06-30', '2019-09-30', '2020-03-31', '2020-06-30',\n",
       "       '2020-09-30', '2021-03-31', '2021-06-30', '2021-09-30',\n",
       "       '2022-03-31', '2022-06-30', '2022-09-30', '2023-03-31',\n",
       "       '2023-06-30', '2023-09-30', '2014-03-30', '2020-12-31',\n",
       "       '2021-12-31', '2022-12-31', '2023-12-31', '2020-03-30',\n",
       "       '2016-12-31', '2017-12-31', '2018-12-31', '2019-12-31',\n",
       "       '2014-12-31', '2015-12-31', '2016-03-30', '2017-03-30',\n",
       "       '2017-05-31', '2017-08-31', '2017-11-30', '2018-05-31',\n",
       "       '2018-08-31', '2018-11-30', '2019-05-31', '2019-08-31',\n",
       "       '2019-11-30', '2020-05-31', '2020-08-31', '2020-11-30',\n",
       "       '2021-05-31', '2021-08-31', '2021-11-30', '2022-05-31',\n",
       "       '2022-08-31', '2022-11-30', '2023-05-31', '2023-08-31',\n",
       "       '2023-11-30'], dtype=object)"
      ]
     },
     "execution_count": 13,
     "metadata": {},
     "output_type": "execute_result"
    }
   ],
   "source": [
    "df_dre_tri[\"DT_FIM_EXERC\"].unique()"
   ]
  },
  {
   "cell_type": "code",
   "execution_count": 14,
   "metadata": {},
   "outputs": [
    {
     "name": "stdout",
     "output_type": "stream",
     "text": [
      "   tipo_registro  data_pregao  cod_bdi cod_negociacao  tipo_mercado  \\\n",
      "0              1     20140102     2.00          ABCB4            10   \n",
      "1              1     20140102    96.00         ABCB4F            20   \n",
      "2              1     20140102    62.00         ABCB4T            30   \n",
      "3              1     20140102     2.00          ABEV3            10   \n",
      "4              1     20140102    96.00         ABEV3F            20   \n",
      "\n",
      "  noma_empresa especificacao_papel  prazo_dias_merc_termo moeda_referencia  \\\n",
      "0   ABC BRASIL          PN  EJS N2                    NaN               R$   \n",
      "1   ABC BRASIL          PN  EJS N2                    NaN               R$   \n",
      "2   ABC BRASIL          PN  EJS N2                 361.00               R$   \n",
      "3    AMBEV S/A                  ON                    NaN               R$   \n",
      "4    AMBEV S/A                  ON                    NaN               R$   \n",
      "\n",
      "   preco_abertura  ...  numero_negocios  quantidade_papeis_negociados  \\\n",
      "0           12.31  ...          1544.00                     361200.00   \n",
      "1           12.10  ...             3.00                        140.00   \n",
      "2           13.46  ...             2.00                        100.00   \n",
      "3           17.30  ...         22569.00                    8035400.00   \n",
      "4           17.26  ...           341.00                      10790.00   \n",
      "\n",
      "   volume_total_negociado  preco_exercicio  ìndicador_correcao_precos  \\\n",
      "0              4307894.00             0.00                       0.00   \n",
      "1                 1686.10             0.00                       0.00   \n",
      "2                 1346.30             0.00                       0.00   \n",
      "3            139744724.00             0.00                       0.00   \n",
      "4               187644.20             0.00                       0.00   \n",
      "\n",
      "   data_vencimento  fator_cotacao  preco_exercicio_pontos   codigo_isin  \\\n",
      "0      99991231.00           1.00                    0.00  BRABCBACNPR4   \n",
      "1      99991231.00           1.00                    0.00  BRABCBACNPR4   \n",
      "2      99991231.00           1.00                    0.00  BRABCBACNPR4   \n",
      "3      99991231.00           1.00                    0.00  BRABEVACNOR1   \n",
      "4      99991231.00           1.00                    0.00  BRABEVACNOR1   \n",
      "\n",
      "   num_distribuicao_papel  \n",
      "0                  121.00  \n",
      "1                  121.00  \n",
      "2                  121.00  \n",
      "3                  100.00  \n",
      "4                  100.00  \n",
      "\n",
      "[5 rows x 26 columns]\n"
     ]
    }
   ],
   "source": [
    "# Especificar o caminho do arquivo CSV\n",
    "arquivo_csv = r\"C:\\Users\\usuario\\Desktop\\Programacao\\financeml\\src\\data\\dados_tratados\\COTAHIST_TODOS_ANOS.csv\"\n",
    "\n",
    "# Ler o arquivo CSV com a codificação apropriada\n",
    "preco_acoes_todos_os_anos = pd.read_csv(arquivo_csv, encoding='latin1')\n",
    "\n",
    "# Exibir as primeiras linhas do dataframe lido\n",
    "print(preco_acoes_todos_os_anos.head())"
   ]
  },
  {
   "cell_type": "code",
   "execution_count": null,
   "metadata": {},
   "outputs": [],
   "source": []
  }
 ],
 "metadata": {
  "kernelspec": {
   "display_name": "Python 3",
   "language": "python",
   "name": "python3"
  },
  "language_info": {
   "codemirror_mode": {
    "name": "ipython",
    "version": 3
   },
   "file_extension": ".py",
   "mimetype": "text/x-python",
   "name": "python",
   "nbconvert_exporter": "python",
   "pygments_lexer": "ipython3",
   "version": "3.11.0"
  }
 },
 "nbformat": 4,
 "nbformat_minor": 2
}
